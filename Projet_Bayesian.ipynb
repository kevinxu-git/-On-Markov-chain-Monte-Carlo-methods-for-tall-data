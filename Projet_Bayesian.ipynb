{
 "cells": [
  {
   "cell_type": "markdown",
   "metadata": {
    "colab_type": "text",
    "id": "NLSEkp9bgnZn"
   },
   "source": [
    "\n",
    "<h1 align=\"center\">  <font color=\"#b30000\"> <strong> BAYESIAN LEARNING FOR PARTIALLY OBSERVED DYNAMICAL SYSTEMS </strong> </font> </h1>\n",
    "<br>\n",
    "\n",
    "__**Students**__\n",
    " \n",
    " >- ADEIKALAM Pierre\n",
    " >- CHEN Guangyue \n",
    " >- MORALES Katherine\n",
    " >- XU Kevin\n",
    "\n",
    " __**Professors**__\n",
    " >- DOUC Randal\n",
    " >- LECORFF Sylvain\n"
   ]
  },
  {
   "cell_type": "markdown",
   "metadata": {
    "colab_type": "text",
    "id": "T-FNYxnoEMrN"
   },
   "source": [
    "<h2 align=\"center\">  <font color=\"#0000e6\"> <strong>   ON MARKOV CHAIN MONTE CARLO METHODS FOR TALL DATA </strong> </font> </h2>\n",
    "\n",
    "\n",
    "### Contents\n",
    "\n",
    "[1. Introduction](#s1)<br>\n",
    "[2. Naive Approaches](#s2)<br>\n",
    "[3. Confidence Sampler](#s3)<br>\n",
    "[4. Conclusion](#s4)<br>\n",
    "[5. Code](#s5)<br>"
   ]
  },
  {
   "cell_type": "markdown",
   "metadata": {
    "colab_type": "text",
    "id": "BUtY4OcHEUNw"
   },
   "source": [
    "<a id='s1'></a>\n",
    "## <font color='#0000e6'> 1. Introduction </font>\n",
    "\n"
   ]
  },
  {
   "cell_type": "markdown",
   "metadata": {
    "colab_type": "text",
    "id": "blQwITv0ExDC"
   },
   "source": [
    "### <font color='#0000e6'>  1.0 The Paper </font>\n",
    "\n",
    ">The research paper this work is based on is \"**On Markov chain Monte Carlo methods for tall data\"** by [ R. Bardenet, A. Doucet and C. Holmes.](http://www.jmlr.org/papers/volume18/15-205/15-205.pdf)\n",
    ">\n",
    ">\n",
    "> This paper aims to tackle the problem of applying Markov chain Monte Carlo (MCMC) methods for Bayesian inference on *tall* datasets where the number of observations $n$ is very large. \n",
    ">\n",
    ">As we will see, the quantity of observations in a dataset plays a crucial role in the speed and effectiveness of MCMC methods relying on the Metropolis-Hastings sampling algorithm, and the authors propose diverse workarounds to try and preserve the target distribution while **alleviating the computational workload** needed to implement such methods.\n",
    ">\n",
    "> The first aim of this notebook is to provide readers an easy to digest overview of some methods they might naïvely try in practice and give compelling arguments based on the authors' work as to why these naïve methods should not be used. Then, we will try to give an overview of a much more promising approach developed by Bardenet et. al based on a technique called confidence sampling.\n"
   ]
  },
  {
   "cell_type": "markdown",
   "metadata": {
    "colab_type": "text",
    "id": "duTQOre33db8"
   },
   "source": [
    "### <font color='#0000e6'>  1.1 Bayesian Inference </font>\n",
    "\n",
    ">Let $X = \\{x_1, \\dots, x_n \\} \\subset  \\mathbb R ^d$  be a dataset and a parameter space  $\\Theta$. We assume the observations are conditionally independent, with the associated average log-likelihood being given by:\n",
    ">\n",
    ">\\begin{equation}\n",
    "\\tag{1}\n",
    " l(\\theta) = \\frac{1}{n}\\sum_{i=1}^{n} \\log p(x_i|\\theta).\n",
    "\\end{equation}\n",
    ">\n",
    ">**Bayesian approach:**\n",
    ">\n",
    ">Let $p(\\theta)$ be the prior distribution of  $\\theta$, then the posterior distribution of $\\theta$ is given by:\n",
    ">\n",
    ">\\begin{align}\n",
    "\\tag{2}\n",
    " \\pi(\\theta) = p(\\theta | X) = \\frac{p(\\theta) \\prod_{i=1}^{n} p(x_i|\\theta)}{p(X)}\\; \\; \\propto \\; \\;\\gamma(\\theta),\n",
    "\\end{align}\n",
    ">where $\\gamma(\\theta):=  p(\\theta) e^{(n\\; l(\\theta))}$ is the unnormalized version of $\\pi$. \n"
   ]
  },
  {
   "cell_type": "markdown",
   "metadata": {
    "colab_type": "text",
    "id": "mZKaktS27CXQ"
   },
   "source": [
    "### <font color='#0000e6'>  1.2 Metropolis-Hastings Algorithm </font>\n",
    "\n",
    "> To sample from the distribution $\\pi$, one can use the Metropolis-Hastings (MH) algorithm to simulate a Markov chain  $(\\theta_k)_{k \\geq1}$ of invariant distribution $\\pi$\n",
    ">\n",
    ">\n",
    ">---\n",
    "**Algorithm 1:**  Metropolis-Hastings\n",
    ">\n",
    ">---\n",
    ">\n",
    ">**Input:** \n",
    "  - $\\gamma(\\cdot)$: unnormalized version of $\\pi$\n",
    "  - $q(\\cdot|\\cdot)$: proposal distribution\n",
    "  - $N_{iter}$: number of iterations\n",
    "<H6> \n",
    ">\n",
    ">**For** $k\\leftarrow$ 1 : $N_{iter}$\n",
    "  1.  $\\theta \\leftarrow \\theta_{k-1}$\n",
    "  2.  $\\theta' \\sim q( . | \\theta)$\n",
    "  3.  <font color='#0000e6'> $\\alpha(\\theta, \\theta ') \\leftarrow \\frac{\\gamma(\\theta ')}{\\gamma(\\theta)}\\frac{q( \\theta | \\theta')}{q( \\theta' | \\theta)} $ </font>\n",
    "  4. $ U \\sim \\mathcal U(0,1)$\n",
    "  5.  **If** $U < \\alpha(\\theta, \\theta ')$\n",
    "    - $\\theta_k \\leftarrow \\theta '$\n",
    "  6. **else** \n",
    "    - $\\theta_k \\leftarrow \\theta$\n",
    ">\n",
    ">Return: $(\\theta_k)_{k =1, \\dots, N_{iter}}$\n",
    "></H6>\n",
    ">\n",
    ">---\n"
   ]
  },
  {
   "cell_type": "markdown",
   "metadata": {
    "colab_type": "text",
    "id": "dikbCGSJaxmY"
   },
   "source": [
    ">The observations of the dataset are independent. Thus, following equation (2), we can rewrite step 3 of the above algorithm to \n",
    ">\\begin{equation}\n",
    "\\tag{3}\n",
    " \\log \\alpha(\\theta, \\theta ')  = \\log \\Big [ \\frac{p(\\theta')}{p(\\theta)}\\frac{q(\\theta | \\theta')}{q(\\theta' | \\theta)} \\Big] +n \\big[ l(\\theta ') -l(\\theta) \\big] .\n",
    "\\end{equation}\n"
   ]
  },
  {
   "cell_type": "markdown",
   "metadata": {
    "colab_type": "text",
    "id": "vzkOlZ7TdShj"
   },
   "source": [
    "**Problem:**\n",
    "\n",
    ">Since $l(\\theta) = \\frac{1}{n}\\sum_{i=1}^{n} \\log p(x_i|\\theta)$, computing $l(\\theta')$ and $l(\\theta)$ requires a full pass over the dataset, which renders this algorithm unapplicable in practice as the computation needed for a single iteration will be too heavy.\n",
    ">\n",
    ">\n",
    "> The authors propose three types of workarounds:\n",
    ">\n",
    ">- **Divide and conquer approaches:** Divide the data into batches, run the MH algorithm on each batch separately and combine the results.\n",
    ">\n",
    ">- **Exact subsampling approaches:** Use unbiased estimators of the target distribution and plug them into the computation of the acceptance ratio of the MH algorithm.\n",
    ">\n",
    ">- **Approximate subsampling approaches:** Instead of approximating the target distribution, directly try to approximate the acceptance ratio such that the resulting stationary distribution is close enough to the target distribution.\n",
    "\n",
    "**Our work:**\n",
    ">In this notebook, we will look at a naïve approach from each type of solution. Sadly, we will show that their most basic form do not provide simple solutions to the application of MCMC methods for  tall datasets. However, they are very helpful to understand several potential approaches to scale up MCMC on tall datasets, and each of them could be tried.\n",
    "\n",
    "\n"
   ]
  },
  {
   "cell_type": "markdown",
   "metadata": {
    "colab_type": "text",
    "id": "398GoGrFuzxS"
   },
   "source": [
    "<a id='s2'></a>\n",
    "## <font color='#0000e6'>   2. Naïve Approaches  </font>"
   ]
  },
  {
   "cell_type": "markdown",
   "metadata": {
    "colab_type": "text",
    "id": "QHrDWfidlrX7"
   },
   "source": [
    "\n",
    "\n",
    "####  <font color='#0000e6'> 2.1 Divide and conquer  </font>\n"
   ]
  },
  {
   "cell_type": "markdown",
   "metadata": {
    "colab_type": "text",
    "id": "dLyhsnSUGkQ3"
   },
   "source": [
    "> Divide-and-conquer approaches appear as a natural way of handling tall data as they divide the initial dataset into batches, run MCMC on each batch in parallel, and then combine these results to obtain an approximation of the posterior distribution. Formally, assuming the data $X$ is divided into batches $x_1, ... , x_B$,  the latter task can be written as: \n",
    "> \n",
    "> \n",
    ">\\begin{equation}\n",
    "\\tag{4}\n",
    "\\pi(\\theta) = p(\\theta|X) \\propto \\prod_{i=1}^{B}p(\\theta)^{\\frac{1}{B}}p(x_i|\\theta) \\propto \\prod_{i=1}^{B} \\pi_i(\\theta)\n",
    "\\end{equation}\n",
    ">\n",
    "> which is justified **only if we assume the batch posteriors $\\pi_i$ to be Gaussian.**\n",
    ">\n",
    "> Two main problems arise: \n",
    "- **MCMC methods do not return posteriors as mathematical functions**, so an extra step is needed to combine the batch posteriors using this trick.\n",
    "- **How to efficiently combine non-Gaussian batch posteriors?**\n",
    "\n",
    "> The authors mention different ways of combining the batch posteriors:\n",
    ">\n",
    ">-  Fit a Gaussian approximation to the MCMC draws of each batch posterior and combine these approximations using $(4)$ [(Huang and Gelman, 2005)](http://www.stat.columbia.edu/~gelman/research/unpublished/comp7.pdf).\n",
    ">\n",
    ">-  Compute a weighted average of the MCMC draws of each batch posterior. Under Gaussian assumptions , this average should follow the same distribution as the combined batch posteriors [(Scott et al., 2013)](https://www.researchgate.net/publication/295098887_Bayes_and_Big_Data_The_Consensus_Monte_Carlo_Algorithm).\n",
    ">\n",
    ">-  For each batch $x_i$, target the artificial posterior $\\pi_i(\\theta) \\propto p(\\theta)^{\\frac{1}{B}}p(x_i|\\theta)$. Then, fit a smooth approximation to each batch posterior $\\pi_i$ and multiply them [(Neiswanger\n",
    "et al., 2014)](http://www.cs.cmu.edu/~epxing/papers/2014/Neiswanger_Wang_Xing_UAI14a.pdf).\n",
    ">\n",
    ">However, these methods are theoretically justified only when batch posteriors are Gaussian, or **when the size of each batch goes to infinity**, which defeats the purpose of this approach.\n",
    ">\n",
    ">**The supports of the $\\pi_i$ can be disjoint and as a result the product of their approximations will yield a poor approximation of $\\pi$.**\n",
    "\n",
    "\n"
   ]
  },
  {
   "cell_type": "markdown",
   "metadata": {
    "colab_type": "text",
    "id": "I7feYcSJv6ag"
   },
   "source": [
    "\n",
    "\n",
    "####  <font color='#0000e6'> 2.2 Pseudo-Marginal Metropolis-Hastings: The challenge of Unbiased Estimation  </font>\n"
   ]
  },
  {
   "cell_type": "markdown",
   "metadata": {
    "colab_type": "text",
    "id": "rJ9B_JzzwfTW"
   },
   "source": [
    "> Pseudo-Marginal MH consists in using an unbiased *almost surely non-negative* **estimator $\\hat\\gamma(\\theta)$** of the unnormalized target distribution $\\gamma(\\theta)$ instead of evaluating $\\gamma(\\theta)$ at each iteration of the MH algorithm.\n",
    ">\n",
    "> We could then replace the evaluation of $\\gamma(\\theta)$ by an evaluation of $\\hat\\gamma(\\theta)$ which should be faster to compute and still give the correct acceptance decision most of the time.\n",
    ">\n",
    "> We recall that :\n",
    ">\n",
    "> $$ \\gamma(\\theta) = p(\\theta)e^{nl(\\theta)} $$ with $$nl(\\theta) = \\sum_{i=1}^{n} l_i(\\theta)$$\n",
    ">\n",
    ">\n",
    "> The most naïve estimator one could build for $nl(\\theta)$ is:\n",
    ">\n",
    "> $$n\\hat l(\\theta) = \\frac{n}{t} \\sum_{i = 1}^{t}\\mathrm{log} p(x_i^* | \\theta)$$\n",
    ">\n",
    "> which is an unbiased estimator of $nl(\\theta)$.\n",
    ">\n",
    "> However, $\\mathbb{E}[e^{n \\hat l (\\theta)}] \\neq e^{\\mathbb{E}[n\\hat l(\\theta)]}$ which means that $e^{n\\hat l(\\theta)}$ is not an unbiased estimator of $e^{nl(\\theta)}$.\n",
    ">\n",
    "> [Jacob & Thierry (2015)](https://arxiv.org/abs/1309.6473v1)  showed that it is actually *impossible* to build an unbiased estimator of $e^{nl(\\theta)}$ with just an unbiased estimator of $n\\hat l(\\theta)$ without making any further assumptions.\n"
   ]
  },
  {
   "cell_type": "markdown",
   "metadata": {
    "colab_type": "text",
    "id": "PZMcPKauUyPA"
   },
   "source": [
    "> We can build an unbiased estimator of $e^{nl(\\theta)}$ if for example we were to **assume for all $i$ and for all $\\theta$ that there exists $a(\\theta)$ such that $l_i(\\theta) \\gt a(\\theta)$**. Then, we can apply ([Rhee and Glynn, 2015](https://pdfs.semanticscholar.org/8a84/01f86ca70891293d41ea1c3c0d7877f7910d.pdf), Theorem 1) to build an unbiased estimator of $e^{n(l(\\theta) - a(\\theta))}$:\n",
    ">\n",
    "> *The following formulas of the estimators and inequalities are given for the sake of rigor, but the takeaway message of this section relies only on the very last inequality which highlights the inapplicability of this naïve method.*\n"
   ]
  },
  {
   "cell_type": "markdown",
   "metadata": {
    "colab_type": "text",
    "id": "5kyME9LzU-aL"
   },
   "source": [
    "> For $j\\geq 1$, we draw independently with replacement $t$ samples $(x_{1, j}^*, ..., x_{t, j}^*)$ and define\n",
    ">\n",
    "> $$ D_j^* = \\frac{n}{t} \\sum_{i = 1}^{t}\\mathrm{log} p(x_{i,j}^* | \\theta) - na(\\theta) = n \\hat l_j(\\theta) - na(\\theta)$$\n",
    ">\n",
    "> Then, $D_j$ is an unbiased estimator of $n(l(\\theta) - a(\\theta)$. Let $N$ be a geometric random variable with the parameter $\\frac{\\epsilon}{\\epsilon + 1}$, $\\epsilon \\gt 0$. If we take:\n",
    ">\n",
    "> $$ Z = e^{na(\\theta)}\\left[1 + \\sum_{k = 1}^{N} \\frac{P(N \\geq k)}{k!} \\prod_{j = 1}^{k}D_j^* \\right] $$\n",
    ">\n",
    "> Then by Theorem 1 of (Rhee and Glynn, 2015), $Z$ is an unbiased estimator of $e^{n(l(\\theta) - a(\\theta))}$. However, it is crucial if we want to plug $\\hat \\gamma(\\theta) = Z p(\\theta) $ in the MH algorithm that we control the variance of Z.\n",
    ">\n",
    "> From ([Rhee and Glynn, 2015](https://pdfs.semanticscholar.org/8a84/01f86ca70891293d41ea1c3c0d7877f7910d.pdf)), we have the following lower bound on the *relative* variance of Z:\n",
    ">\n",
    "> $$ \\frac{Var Z}{e^{2nl(\\theta)}} \\geq \\frac{e^{-2n(l(\\theta) - a(\\theta)) + 2n\\sqrt{(1 + \\epsilon )\\left[ \\sigma_t(\\theta)^2 + (l(\\theta) - a(\\theta))^2\\right]}}}{n\\sqrt{(1 + \\epsilon)\\left[ \\sigma_t(\\theta)^2 + (l(\\theta) - a(\\theta))^2\\right]}} + \\mathcal{O}(1)$$\n",
    ">\n",
    "> The important bit of this lower bound is given by $$e^{-2n(l(\\theta) - a(\\theta)) + 2n\\sqrt{(1 + \\epsilon )\\left[ \\sigma_t(\\theta)^2 + (l(\\theta) - a(\\theta))^2\\right]}}$$\n",
    ">\n",
    "> with $\\sigma_t(\\theta)$ being the standard deviation of $\\hat l(\\theta)$.\n",
    ">\n",
    "> We can see that for the relative variance to not explode exponentially with $n$, it is necessary for $n\\sigma_t(\\theta)$ to be of order $1$. From the Central Limit Theorem, we know that $\\sigma_t(\\theta)$ is of order $t^{-1/2}$ which means that the subsample size $t$ should be of order $n^2$ which completely defeats the purpose of this approach."
   ]
  },
  {
   "cell_type": "markdown",
   "metadata": {
    "colab_type": "text",
    "id": "Dn1_Tqj6wfha"
   },
   "source": [
    "\n",
    "####  <font color='#0000e6'> 2.3 Naive subsampling </font>"
   ]
  },
  {
   "cell_type": "markdown",
   "metadata": {
    "colab_type": "text",
    "id": "eKfTz7fC1Qgv"
   },
   "source": [
    "> Assuming we gave up on building an unbiased estimator of $e^{nl(\\theta)}$, naïve subsampling is a naïve Pseudo-Marginal MH technique that consists in plugging inside MH the following unbiased estimator of the average loglikelihood:\n",
    "$$\\hat{l}(\\theta)=\\frac 1n \\sum_{i=1}^{n}\\frac{z_i}{\\lambda}l_i(\\theta)$$ \n",
    ">where the $z_i \\sim  B(1, \\lambda)$ are i.i.d. <br>\n",
    ">\n",
    "> We know from the previous section that this estimator does not preserve the target distribution. However, *(Doucet et al., 2015)* have shown that under Gaussian assumptions, Pseudo-Marginal MH can still be effective if the variance of the average loglikelihood estimation is kept to 1 or 3 depending on the performance of the vanilla MH algorithm.\n",
    ">\n",
    "> We have chosen to illustrate the Naïve subsampling approach as the variance of the average loglikelihood can easily be written:\n",
    ">\n",
    ">\\begin{align}\n",
    "Var [\\hat{l}(\\theta)] &= Var \\Big[\\sum_{i=1}^{n} \\frac{z_i}{\\lambda}l_i(\\theta)\\Big] = \\frac 1 {\\lambda^2}\\sum_{i=1}^{n} l_i(\\theta)^2 Var[z_i] \\\\ \n",
    "&=\\frac{(1-\\lambda)}{\\lambda} \\sum_{i=1}^{n} l_i(\\theta)^2\n",
    "\\end{align}\n",
    ">\n",
    "> Since $\\sum_{i=1}^{n} l_i(\\theta)^2$ grows with $n$, for $Var [\\hat{l}(\\theta)]$ to be close to 1 we need $\\lambda$ to be close to 1. \n",
    "> As $\\lambda$ is the parameter of the Bernoulli subsampling distribution then **there is no significant advantage between using this technique  or the complete data.**\n",
    "\n",
    " \n",
    "\n"
   ]
  },
  {
   "cell_type": "markdown",
   "metadata": {
    "colab_type": "text",
    "id": "y97vvdrKxec0"
   },
   "source": [
    "<a id='s2'></a>\n",
    "## <font color='#0000e6'>   3. Confidence sampler  </font>"
   ]
  },
  {
   "cell_type": "markdown",
   "metadata": {
    "colab_type": "text",
    "id": "XYYSJQ_-mthx"
   },
   "source": [
    "\n",
    "####  <font color='#0000e6'> 3.1 Concept  </font>"
   ]
  },
  {
   "cell_type": "markdown",
   "metadata": {
    "colab_type": "text",
    "id": "cOE9ze4ymzbK"
   },
   "source": [
    "> If we take a step back and look at the Metropolis-Hastings algorithm, we see that if we could just approximate the *acceptance ratio* $\\alpha(\\theta, \\theta ')$ such that we are *confident* enough that our approximation will give the same decision as the actual acceptance ratio, then the stationary target distribution of this chain should be preserved. This is what the *confidence sampling* approach is about.\n",
    ">\n",
    "> We recall that the acceptance ratio is given by:\n",
    "> $$\\alpha(\\theta, \\theta ') = \\min\\left\\{\\frac{\\pi(y_{t+1})q(x_t,y_{t+1})}{\\pi(x_t)q(y_{t+1},x_t)},1\\right\\} $$\n",
    ">\n",
    "> If we let $u \\sim \\mathcal{U}(0, 1)$, then the acceptance decision is given by:\n",
    ">\n",
    "> $$ \\alpha(\\theta, \\theta ') \\geq u \\iff \\mathrm{log}\\alpha(\\theta, \\theta ') \\geq \\mathrm{log}(u)$$\n",
    ">\n",
    "> which is equivalent to:\n",
    ">\n",
    "> $$ \\frac{1}{n}\\sum_{i=1}^{n}\\mathrm{log}\\left(\\frac{p(x_i|\\theta ')}{p(x_i|\\theta)}\\right) \\geq \\frac{1}{n}\\mathrm{log}u - \\frac{1}{n} \\mathrm{log}\\left(\\frac{p(\\theta ')q(\\theta | \\theta')}{p(\\theta)q(\\theta' | \\theta)}\\right)$$\n",
    ">\n",
    "> If we can approximate the loglikelihood ratio on the left well enough, then the acceptance decision taken by using this approximation should be the same than the one taken with the full loglikelihood ratio. Let us now build such a procedure.\n",
    ">\n",
    "> For all $\\theta, \\theta ' \\in \\Theta$, we assume that there exists $C_{\\theta, \\theta '} \\gt 0$ such that:\n",
    ">\n",
    "> $$ \\max_{i = 1,...,n} \\left|\\mathrm{log}\\left( \\frac{p(x_i |\\theta)}{p(x_i | \\theta ')} \\right) \\right| \\leq C_{\\theta, \\theta '}$$\n",
    ">\n",
    ">\n",
    "> Fix $\\theta, \\theta ' \\in \\Theta$. We can use a *Bernstein* or *Hoeffding* type of **concentration inequality** to bound our approximation of the loglikelihood ratio with respect to the number of samples used. We obtain, for a subsample $(x_1^*, ... , x_t^*)$ of size $t$, that :\n",
    ">\n",
    "> $$\\mathbb{P}\\left(\\left|\\frac{1}{t} \\sum_{i=1}^{t} \\mathrm{log}\\left( \\frac{p(x_i^* |\\theta)}{p(x_i^* | \\theta ')}\\right) - \\frac{1}{n} \\sum_{i=1}^{n} \\mathrm{log}\\left( \\frac{p(x_i^* |\\theta)}{p(x_i^* | \\theta ')}\\right) \\right| \\leq c_t(\\delta) \\right) \\geq 1 - \\delta$$\n",
    ">\n",
    "> where $$c_t(\\delta) = C_{\\theta, \\theta '} \\sqrt{\\frac{2(1 - f_t^*)\\mathrm{log}(2/\\delta)}{t}}$$\n",
    ">\n",
    "> and $f_t^* = \\frac{t-1}{n}$ is approximately the fraction of used samples.\n",
    ">\n",
    "> For readers that are unfamiliar with concentration inequalities, this inequality roughly translates into:\n",
    ">\n",
    "> $$\\mathbb{P}\\left(\\left| approximation - real \\hspace{0.1cm}value \\right| \\leq constant \\hspace{0.1cm} depending \\hspace{0.1cm} on\\hspace{0.1cm} \\delta \\right) \\geq 1 - \\delta $$\n",
    "> \n",
    "> Let $$\\psi(u, \\theta, \\theta') = \\frac{1}{n}\\mathrm{log}u - \\frac{1}{n} \\mathrm{log}\\left(\\frac{p(\\theta ')q(\\theta | \\theta')}{p(\\theta)q(\\theta' | \\theta)}\\right)$$\n",
    "> $$\\Lambda_t(\\theta, \\theta')= \\frac{1}{t} \\sum_{i=1}^{t} \\mathrm{log}\\left( \\frac{p(x_i^* |\\theta)}{p(x_i^* | \\theta ')}\\right)$$\n",
    "> \n",
    "> and let us place ourselves on the event $\\left\\{ \\left| \\Lambda_t(\\theta, \\theta') - \\Lambda_n(\\theta, \\theta') \\right| \\leq c_t(\\delta)\\right\\}$, which is the event described by the concentration inequality.\n",
    ">\n",
    "> It follows from simple computation that on this event, if the event $\\left\\{ \\left| \\Lambda_t(\\theta, \\theta') - \\psi(u, \\theta, \\theta') \\right| \\gt c_t(\\delta)\\right\\}$ also holds, the approximated acceptance ratio will yield the correct decision. Indeed, both $\\Lambda_t(\\theta, \\theta')$ and $\\Lambda_n(\\theta, \\theta')$ will be on the same side of $\\psi(u, \\theta, \\theta')$, so the decision will be the same. The idea of confidence sampling is then to sequentially increase $t$ until $\\left\\{ \\left| \\Lambda_t(\\theta, \\theta') - \\psi(u, \\theta, \\theta') \\right| \\gt c_t(\\delta)\\right\\}$ holds (which will eventually be the case as $c_t(\\delta) \\rightarrow 0$ when $t \\rightarrow n$)."
   ]
  },
  {
   "cell_type": "markdown",
   "metadata": {
    "colab_type": "text",
    "id": "bVlSuUYzm1Tm"
   },
   "source": [
    "\n",
    "####  <font color='#0000e6'> 3.2 Algorithm : Confidence Sampler MH (Bardenet et al., 2014)  </font>"
   ]
  },
  {
   "cell_type": "markdown",
   "metadata": {
    "colab_type": "text",
    "id": "Hyz8tulom5Tg"
   },
   "source": [
    "#####  <font color='#0000e6'> 3.2.1 Pseudocode of the algorithm  </font>\n"
   ]
  },
  {
   "cell_type": "markdown",
   "metadata": {
    "colab_type": "text",
    "id": "x2i-QObeiSD7"
   },
   "source": [
    ">---\n",
    "**Algorithm 2:**  Confidence Sampler\n",
    ">\n",
    ">---\n",
    ">\n",
    ">**Input:** \n",
    "  + $p(x|\\theta)$ : A likelihood \n",
    "  + $p(\\theta)$ : A prior distribution\n",
    "  + $q(\\theta'|\\theta)$ : A proposal distribution\n",
    "  + $\\theta_0$ : A starting point\n",
    "  + $N_{iter}$ : Number of iterations\n",
    "  + $\\mathcal{X}$ : The dataset\n",
    "  + $\\delta$ : The probability for the concentration inequality\n",
    "  + $C_{\\theta, \\theta'}$ : The range of each log likelihood ratio\n",
    "  + $\\gamma$ : The ratio at which the batchsize is increased geometrically\n",
    "> \n",
    ">**Output:**\n",
    "  + a Markov chain\n",
    ">\n",
    "> 1. **for** $k \\leftarrow 1$ **to** $N_{iter}$\n",
    "> 2. $\\hspace{1cm} \\theta \\leftarrow \\theta_{k-1}$\n",
    "> 3. $\\hspace{1cm} \\theta' \\sim q(.|\\theta), u \\sim \\mathcal{U}_{(0,1)}$,\n",
    "> 4. $\\hspace{1cm} \\psi(u, \\theta, \\theta') \\leftarrow \\dfrac{1}{n} \\log \\left[ u \\dfrac{p(\\theta)q(\\theta'|\\theta)}{p(\\theta')q(\\theta|\\theta')} \\right]$\n",
    "> 5. $\\hspace{1cm} t \\leftarrow 0$\n",
    "> 6. $\\hspace{1cm} t_{look} \\leftarrow 0$\n",
    "> 7. $\\hspace{1cm} \\Lambda^* \\leftarrow 0$\n",
    "> 8. $\\hspace{1cm} \\mathcal{X}^* \\leftarrow \\emptyset $\n",
    "> 9. $\\hspace{1cm} b \\leftarrow 1$\n",
    "> 10. $\\hspace{1cm} Done \\leftarrow False$\n",
    "> 11. $\\hspace{1cm} \\textbf{while} \\; Done = False \\; \\textbf{do}$\n",
    "> 12. $\\hspace{2cm} x_{t+1}^*,...,x_b^* \\sim_{w/o \\; repl.} \\mathcal{X} \\backslash \\mathcal{X}^*$\n",
    "> 13. $\\hspace{2cm} \\mathcal{X}^* \\leftarrow \\mathcal{X}^* \\cup \\{ x_{t+1}^*,...,x_b^* \\}$ \n",
    "> 14. $\\hspace{2cm} \\Lambda^* \\leftarrow \\dfrac{1}{b} \\left( t \\Lambda^* + \\sum_{i=t+1}^b \\log \\left[ \\dfrac{p(x_i^*|\\theta')}{p(x_i^*|\\theta)} \\right] \\right)$\n",
    "> 15. $\\hspace{2cm} t \\leftarrow b$\n",
    "> 16. $\\hspace{2cm} c \\leftarrow c_t(\\delta)$ \n",
    "> 17. $\\hspace{2cm} b \\leftarrow n \\land [\\gamma t]$ \n",
    "> 18. $\\hspace{2cm} \\textbf{if} \\; |\\Lambda^* - \\psi(u, \\theta, \\theta')| \\geq c \\; \\textbf{or} \\; t=n$ \n",
    "> 19. $\\hspace{3cm} Done \\leftarrow True$\n",
    "> 20. $\\hspace{1cm} \\textbf{if} \\; \\Lambda^* \\geq \\psi(u, \\theta, \\theta') $\n",
    "> 21. $\\hspace{2cm} \\theta_k \\leftarrow \\theta'$ # __ACCEPT__\n",
    "> 22. $\\hspace{1cm} \\textbf{else} \\; \\theta_k \\leftarrow \\theta \\hspace{2mm}$   # __REJECT__\n",
    "> 23. $\\textbf{return} \\; (\\theta_k)_{k=1,...,N_{iter}} $ "
   ]
  },
  {
   "cell_type": "markdown",
   "metadata": {
    "colab_type": "text",
    "id": "MtKGcszaiZ9o"
   },
   "source": [
    "At each iteration, the algorithm first draws a candidate $\\theta'$ from the proposal distribution and a uniform random number $u$ as in the MH algorithm. $\\psi(u, \\theta, \\theta')$ is also computed. Then, we initialize the variables that will be used to find the correct $\\Lambda^*$ which corresponds to an approximation of the loglikelihood ratio.\n",
    "\n",
    "To compute $\\Lambda^*$, one needs to find the subsample size $b$ such that the right MH acceptance decision is taken with probability at least $1-\\delta$. \n",
    "In order to achieve this, the algorithm uses a while loop for each iteration in which $b$ is increased geometrically. The points of the batch are drawn uniformly without replacement from the dataset. A confidence bound $c_t(\\delta)$ is also computed for a valid concentration inequality such as Hoeffding's or Bernstein's. Finally, the while loop ends until either we have gone over the whole dataset or the confidence condition is satisfied.\n",
    "\n",
    "Afterwards, to decide whether to accept or reject the candidate $\\theta'$, the algorithm compares $\\psi(u, \\theta, \\theta')$ and $\\Lambda^*$. "
   ]
  },
  {
   "cell_type": "markdown",
   "metadata": {
    "colab_type": "text",
    "id": "sOFCMfYdid13"
   },
   "source": [
    "#####  <font color='#0000e6'> 3.2.2 Implementation  </font>\n"
   ]
  },
  {
   "cell_type": "markdown",
   "metadata": {
    "colab_type": "text",
    "id": "6gU3TF-ridn0"
   },
   "source": [
    "\n",
    "The confidence sampler is already implemented in Python in the notebook provided by the authors of the paper. So, we did not implement it again. \n",
    "\n",
    "The plot below is a histogram of the batchsizes used by the confidence sampler for a simple example: We fit a one-dimensional normal distribution to $10^5$ i.i.d. points drawn according to a normal distribution $\\mathcal{N}(0,1)$."
   ]
  },
  {
   "cell_type": "markdown",
   "metadata": {
    "colab_type": "text",
    "id": "_ctfb7Ks86pA"
   },
   "source": [
    "<center>\n",
    "\n",
    "![plot number of iterations in confidence sampler](https://i.imgur.com/BxYpbRM.png[/img])\n",
    "</center>\n",
    "\n",
    "We observe that almost each iteration uses batchsize equals to the total number of individual data points. That is why this confidence sampler is still computationally not efficient, even for this extremely simple example."
   ]
  },
  {
   "cell_type": "markdown",
   "metadata": {
    "colab_type": "text",
    "id": "sEwtFmgHm75-"
   },
   "source": [
    "\n",
    "####  <font color='#0000e6'> 3.3 Improved confidence sampler  </font>"
   ]
  },
  {
   "cell_type": "markdown",
   "metadata": {
    "colab_type": "text",
    "id": "WAN0HJtHnA0X"
   },
   "source": [
    "##### <font color='#0000e6'> 3.3.1 Improved confidence sampler  </font>\n"
   ]
  },
  {
   "cell_type": "markdown",
   "metadata": {
    "colab_type": "text",
    "id": "tW6dcn2g7LLp"
   },
   "source": [
    "> The authors propose a modified version of the confidence sampler. They use a proxy to replace approximated loglikelihood ratio and the same trick is used: **If we are *confident enough* in our proxy, the acceptance decision should be identical**.\n",
    ">\n",
    "> In an example, we will show that this new algorithm can require less than $O(n)$ likelihood evaluations per iteration.\n",
    ">\n",
    "> The conditions required for this algorithm to work are the following:\n",
    "> For $\\theta, \\theta' \\in \\Theta$\n",
    "> > 1. $\\wp_i (\\theta, \\theta') \\approx l_i(\\theta') - l_i(\\theta)$\n",
    "> > 2. $\\sum_{i=1}^n \\wp_i (\\theta, \\theta')$ is cheap to compute\n",
    "> > 3. $|l_i(\\theta') - l_i(\\theta) - \\wp_i (\\theta, \\theta')|$ can be bounded uniformly for $i \\in [\\![1, n]\\!]$ and the bound is cheap to compute.\n",
    ">\n",
    "> **The third condition is the one that lets us use a concentration inequality and bound the *confidence* in the approximated acceptance ratio.**\n",
    ">\n",
    "> These assumptions are very strong, but this method shows a very promising approach to scaling up MCMC. Let us illustrate this potential with an example."
   ]
  },
  {
   "cell_type": "markdown",
   "metadata": {
    "colab_type": "text",
    "id": "49kyWRpstyst"
   },
   "source": [
    "#####  <font color='#0000e6'> 3.3.2 Example Proxy: Taylor Expansion  </font>"
   ]
  },
  {
   "cell_type": "markdown",
   "metadata": {
    "colab_type": "text",
    "id": "sJFcrZrNkNS8"
   },
   "source": [
    "> We assume that around some reference value $\\theta_*$, the log likelihood ratio can be approximated by:\n",
    ">\n",
    "> $$\\hat l_i(\\theta) = l_i(\\theta_*) + g_{i,*}^T(\\theta - \\theta_*) + \\frac{1}{2}(\\theta - \\theta_*)^T H_{i,*}(\\theta - \\theta_*)$$\n",
    ">\n",
    "> where $g_{i,*}$ is the gradient of $l_i$ at $\\theta_*$ and $H_{i,*}$ is the Hessian matrix of $l_i$ at $\\theta_*$.\n",
    ">\n",
    "> We also assume that the third order derivative of $l_i$ is uniformly bounded for all $i$.\n",
    ">\n",
    "> If we now define:\n",
    "> $$\\wp_i(\\theta, \\theta') = \\hat l_i(\\theta') - \\hat l_i(\\theta) \\approx l_i(\\theta') - l_i(\\theta)$$\n",
    ">\n",
    ">Then, this proxy satisfies all the conditions required to be used in the improved confidence sampling algorithm.\n",
    ">\n",
    "> If we have already precomputed:\n",
    "> $$\\hat\\mu = \\frac{1}{n}\\sum_{i = 1}^{n} g_{i,*}$$\n",
    "> $$\\hat S = \\frac{1}{n}\\sum_{i = 1}^{n} H_{i,*}$$\n",
    ">\n",
    "> Then, the following holds:\n",
    "> $$\\frac{1}{n}\\sum_{i=1}^n \\wp_i(\\theta, \\theta') = \\hat\\mu^T(\\theta' - \\theta) + \\frac{1}{2}(\\theta' - \\theta)^T \\hat S(\\theta' + \\theta + 2\\theta_*)$$\n",
    ">\n",
    "> which means that $\\frac{1}{n}\\sum_{i=1}^n \\wp_i(\\theta, \\theta')$ can effectively be computed in $O(1)$."
   ]
  },
  {
   "cell_type": "markdown",
   "metadata": {
    "colab_type": "text",
    "id": "kKqvsOEpCEqB"
   },
   "source": [
    "As in the last section, the improved confidence sampler with *Taylor expansions* as proxies is also already implemented in the notebook provided. \n",
    "\n",
    "Here we used the same example as in 3.2.2 and we obtain the following histogram with the new method.\n",
    "\n",
    "<center>\n",
    "\n",
    "![plot number of iterations in confidence sampler](https://i.imgur.com/qnTj9ud.png)\n",
    "</center>\n",
    "\n",
    "The resulting Markov chains are the same in both confidence samplers but the the difference is in the number of likelihood evaluations used at each iteration.\n",
    "\n",
    "We note that the batchsizes are in mean drastically smaller compared to the previous confidence sampler. Each iteration uses only a really small quantity of likelihood evaluations to make the decision.\n",
    "\n",
    "**In conclusion**, the improved confidence sampler algorithm yields far better results than all previous methods but it requires strong and specific assumptions."
   ]
  },
  {
   "cell_type": "markdown",
   "metadata": {
    "colab_type": "text",
    "id": "WbiVWsbqpEL7"
   },
   "source": [
    "#####  <font color='#0000e6'> 3.3.2 Application: Logistic Regression  </font>"
   ]
  },
  {
   "cell_type": "markdown",
   "metadata": {
    "colab_type": "text",
    "id": "SeyatAhfpD2m"
   },
   "source": [
    "> In the logistic regression model, the loglikelihood is given by:\n",
    "> $$l_i(\\theta) = \\phi(y_i x_i^T\\theta)$$\n",
    ">\n",
    "> where $\\phi(z) = -\\mathrm{log}\\left( 1 + e^{-z}\\right)$, $y_i$ and $x_i$ are respectively the labels and the features of $i$th observation.\n",
    ">\n",
    "> Then, we can use the Taylor expansion proxy with:\n",
    "> $$g_{i, *} = \\phi'(y_i x_i^T\\theta_*)y_i x_i$$\n",
    ">\n",
    "> $$H_{i, *} = \\phi''(y_i x_i^T\\theta_*)x_i x_i^T$$\n",
    ">\n",
    "> We also have that $|\\phi'''(z)| =\\left| \\frac{\\mathrm{tanh}(z/2)}{\\mathrm{cosh}^2(z/2)} \\right| \\leq \\frac{1}{4}$, which means that we can uniformly bound $|l_i(\\theta') - l_i(\\theta) - \\wp_i (\\theta, \\theta')|$:\n",
    "> $$|l_i(\\theta') - l_i(\\theta) - \\wp_i (\\theta, \\theta')| \\leq \\frac{1}{24} \\max_{i = 1}^{n} \\|x_i\\|^3 (\\|\\theta' - \\theta_*\\| + \\|\\theta - \\theta_*\\|)$$\n",
    "> \n",
    "> Therefore, this proxy satisfies the conditions required.\n",
    ">\n",
    "> One last detail remains however: **the choice of $\\theta_*$**.\n",
    ">\n",
    "> The authors propose that if one sets $\\theta_*$ to be the state of the Markov chain every $\\alpha$ MH iteration. We will need to do a full pass over the dataset to compute $\\hat\\mu$ and $\\hat S$ but this cost is still overall negligeable.\n",
    "\n"
   ]
  },
  {
   "cell_type": "markdown",
   "metadata": {
    "colab_type": "text",
    "id": "-2gnYNJfu_XU"
   },
   "source": [
    "<a id='s4'></a>\n",
    "## <font color='#0000e6'>  4. Conclusion\n"
   ]
  },
  {
   "cell_type": "markdown",
   "metadata": {
    "colab_type": "text",
    "id": "C2-lYu2-nSNq"
   },
   "source": [
    "> Sadly, unlike for gradient descent there are no \"plug-and-play\" approaches to scaling up MCMC methods to tall datasets:\n",
    "> - Divide and conquer approaches are unreliable as they have no theoretical backing for non-Gaussian settings.\n",
    "> - Pseudo-Marginal approximations are difficult to control and as a result are unpredictible *as is*.\n",
    "> - While being theoretically justified, vanilla Confidence Sampling fails to make substantial gains in computation efficiency in practice.\n",
    ">\n",
    "> Thankfully, the scaling of MCMC methods to tall datasets is a very active area of research and novel approaches such as the use of proxies for an improved confidence sampling algorithm show promise and may provide a path forward to solving this problem.\n"
   ]
  },
  {
   "cell_type": "markdown",
   "metadata": {
    "colab_type": "text",
    "id": "StDvQ1pcEMk4"
   },
   "source": [
    "<a id='s5'></a>\n",
    "## <font color='#0000e6'>  5. Code\n",
    "\n",
    "> In this section we present illustrative examples, the user can modify several parameters and visualize the results. Additionally, the codes contain comments for better understanding of the user.<br>\n",
    ">- **Generation of the data:** We generate $n$ i.i.d points drawn according:\n",
    ">  - $X_i \\sim  \\mathcal N( \\mu = 0, \\sigma=1)$ or\n",
    ">  - $X_i \\sim  \\log \\mathcal N( \\mu = 0, \\sigma=1)$<br> <br>\n",
    ">- **Parameters of MH algorithm:**\n",
    ">  - priori distribution: $p(\\theta)=p(\\mu, \\log\\sigma) \\propto 1$\n",
    ">  - proposal distribution $\\theta^*$: isotropic Gaussian random walk, whose stepsize $\\lambda$ is firts set proportional to $\\frac 1 {\\sqrt{n}}$ and then adapted during the first 1 000 iterations so as to reach $50\\%$ acceptance.\n",
    "$$\\theta^* = \\theta + \\lambda Z,$$\n",
    "where $Z\\sim \\mathcal N( 0,I_2)$, $I_2$ is the $2\\times 2$ identity matrix, and $\\lambda > 0$.<br>\n",
    "See: [ON THE EFFICIENCY OF PSEUDO-MARGINAL RANDOM WALK METROPOLIS ALGORITHMS](https://arxiv.org/pdf/1309.7209.pdf)\n",
    ">  - **$N_{ite}:$** number of iterations. <br>\n",
    "\n"
   ]
  },
  {
   "cell_type": "code",
   "execution_count": 1,
   "metadata": {
    "colab": {},
    "colab_type": "code",
    "id": "wyXMaCYsEL5Z"
   },
   "outputs": [],
   "source": [
    "#@title <font size='4'> Libraries</font> {display-mode: \"form\"}\n",
    "\"\"\"\"\"\"\"\"\"\"\"\"\"\"\"\"\"\n",
    "Required packages\n",
    "\"\"\"\"\"\"\"\"\"\"\"\"\"\"\"\"\"\n",
    "import numpy as np\n",
    "import numpy.random as npr\n",
    "import scipy.stats as sps\n",
    "import scipy.special as spsp\n",
    "import scipy.misc as spm\n",
    "import scipy.optimize as spo\n",
    "import numpy.linalg as npl\n",
    "import matplotlib as mpl\n",
    "import matplotlib.pyplot as plt\n",
    "import matplotlib.colors as colors\n",
    "import matplotlib.cm as cmx\n",
    "import sympy as sym\n",
    "import time\n",
    "import seaborn as sns\n",
    "import seaborn.distributions as snsd\n",
    "import math as math\n",
    "\n",
    "import warnings\n",
    "mpl.style.use('seaborn') #Background\n",
    "warnings.filterwarnings('ignore')\n",
    "\n",
    "from IPython.display import HTML\n",
    "from matplotlib import animation, rc\n",
    "import ipywidgets as widgets\n",
    "from ipywidgets import HBox, VBox\n",
    "from IPython.display import display\n"
   ]
  },
  {
   "cell_type": "code",
   "execution_count": 2,
   "metadata": {
    "colab": {},
    "colab_type": "code",
    "id": "T7HklAUHDAY_"
   },
   "outputs": [],
   "source": [
    "#@title <font size='4'> Metropolis Hastings algorithm code</font> {display-mode: \"form\"}\n",
    "\n",
    "def getLogLhd(x, mu, sigma):\n",
    "    \"\"\"\n",
    "    return an array of Gaussian log likelihoods up to a constant\n",
    "    \"\"\"\n",
    "    return -(x-mu)**2/(2*sigma**2) - np.log(sigma)\n",
    "    \n",
    "def vanillaMH(T):\n",
    "    \"\"\"\n",
    "    perform traditional isotropic random walk Metropolis\n",
    "    T: Number of iterations\n",
    "    \"\"\"\n",
    "    # True value mu, log(sigma^2)\n",
    "    theta = np.array([realMean,np.log(realStd)])\n",
    "    stepsize = .5/np.sqrt(N)\n",
    "    S = np.zeros((T, 2))\n",
    "    acceptance = 0.0\n",
    "    \n",
    "    for i in range(T):\n",
    "        accepted = 0\n",
    "        done = 0\n",
    "        thetaNew = theta\n",
    "        #- Proposal: isotropic random walk (definition)\n",
    "        thetaP = theta + stepsize*npr.randn(2)\n",
    "        u = npr.rand()# Uniform\n",
    "        #- Diference between \\theta' (proposal) and \\theta_{t-1}  (array)\n",
    "        #- to calculate alpha, we have a prior distribution equal to one \n",
    "        lhds = getLogLhd(x, thetaP[0], np.exp(thetaP[1])) - getLogLhd(x, theta[0], np.exp(theta[1]))\n",
    "        #- l(\\theta): average log-likelihood\n",
    "        Lambda = np.mean(lhds)\n",
    "        #- q(\\theta | \\theta')/ q(\\theta' | \\theta) = 1 then log(.) = 0\n",
    "        psi = (1./N)*np.log(u)\n",
    "        if Lambda>psi:#it is equivalent to u < alpha(\\theta,\\theta' )\n",
    "            thetaNew = thetaP\n",
    "            theta = thetaP\n",
    "            accepted = 1\n",
    "            S[i,:] = thetaNew\n",
    "        else:\n",
    "            S[i,:] = theta\n",
    "            \n",
    "        if i<T/10:\n",
    "            # Perform some adaptation of the stepsize in the early iterations\n",
    "            stepsize *= np.exp(1./(i+1)**0.6*(accepted-0.5)) #(?)\n",
    "        #- Historical acceptance rate (each iteration)\n",
    "        acceptance*=i\n",
    "        acceptance+=accepted\n",
    "        acceptance/=(i+1)\n",
    "        if np.mod(i,T/10)==0:\n",
    "          print(\"Iteration %d and  Acceptance percentage %.2f \"%(i,100.*np.round(acceptance,4)))\n",
    "            \n",
    "    return S"
   ]
  },
  {
   "cell_type": "code",
   "execution_count": 0,
   "metadata": {
    "colab": {
     "base_uri": "https://localhost:8080/",
     "height": 145,
     "referenced_widgets": [
      "2ebc8243421d4b8b88724542465eb57e",
      "f88fd9993f0e4826b453bc8d724b416a",
      "528c884ac8d243b2a7b451dc61b4bfc9",
      "d926c4b5c0a548459dce91b89574381a",
      "96ff89c474fe4f98b2bdf952b6967607",
      "07e425b5f36b4f36b2fdc8895c3c17c8",
      "e0ed800defb9414e9221e7aca690843b",
      "c7ece73ba61649babac47cc0491f0edc",
      "0e822e1ddf1548a5b8917b5052d2804a",
      "5956d5faff0d4950b3c1dbe3a68105ce",
      "ba1897bb6e2b45819d196f638cb2b365",
      "4e92041aea2b488dad1eb8871031daba"
     ]
    },
    "colab_type": "code",
    "id": "q7wIEqF75SNt",
    "outputId": "1c3d1929-6851-4017-de32-d9b8686f0213"
   },
   "outputs": [
    {
     "data": {
      "application/vnd.jupyter.widget-view+json": {
       "model_id": "2ebc8243421d4b8b88724542465eb57e",
       "version_major": 2,
       "version_minor": 0
      },
      "text/plain": [
       "VBox(children=(Tab(children=(VBox(children=(ToggleButtons(description='Distribution:', options=('Normal', 'Log…"
      ]
     },
     "metadata": {
      "tags": []
     },
     "output_type": "display_data"
    }
   ],
   "source": [
    "#@title <font size='4'> Select the distribution and enter the number of data points :</font> {display-mode: \"form\"}\n",
    "\n",
    "dist = widgets.ToggleButtons(\n",
    "    options=['Normal', 'Log-normal'],\n",
    "    description='Distribution:',\n",
    ")\n",
    "\n",
    "n_p=widgets.IntText(\n",
    "    value=100000,\n",
    "    description='n:',\n",
    "    disabled=False\n",
    ")\n",
    "tab1 = VBox(children=[dist,\n",
    "                      n_p])\n",
    "tab = widgets.Tab(children=[tab1])\n",
    "tab.set_title(0, 'Generation of the data')\n",
    "VBox(children=[tab])"
   ]
  },
  {
   "cell_type": "code",
   "execution_count": 0,
   "metadata": {
    "colab": {
     "base_uri": "https://localhost:8080/",
     "height": 430
    },
    "colab_type": "code",
    "id": "aeGgOdcQDAXU",
    "outputId": "92001797-559f-445d-bed7-db9c1b0a45e5"
   },
   "outputs": [
    {
     "name": "stdout",
     "output_type": "stream",
     "text": [
      "Normal data simulation\n",
      "Number of points= 100000\n",
      "Mean = 0.0053\n",
      "standard deviation = 0.9983\n"
     ]
    },
    {
     "data": {
      "image/png": "[encoded data removed]",
      "text/plain": [
       "<Figure size 576x396 with 1 Axes>"
      ]
     },
     "metadata": {
      "tags": []
     },
     "output_type": "display_data"
    }
   ],
   "source": [
    "#@title <font size='4'> Data Generation</font> {display-mode: \"form\"}\n",
    "#- Seed\n",
    "npr.seed(1)\n",
    "# Number of points\n",
    "N = n_p.value\n",
    "#- Distribution \n",
    "dataType = dist.value\n",
    "#- Generation of points\n",
    "if dataType == \"Normal\":\n",
    "    x = npr.randn(N)\n",
    "    print('Normal data simulation')\n",
    "elif dataType == \"Log-normal\":\n",
    "    x = npr.lognormal(0,1,size=N)\n",
    "    print('Log-normal data simulation')\n",
    "# We store the mean and std deviation for later reference, they are also the MAP and MLE estimates in this case.\n",
    "realMean = np.mean(x)\n",
    "realStd = np.std(x)\n",
    "\n",
    "print('Number of points= %d'%N)\n",
    "print(\"Mean =\", np.round(realMean,4))\n",
    "print (\"standard deviation =\", np.round(realStd,4))\n",
    "# Plot of points generates\n",
    "plt.hist(x, 30, normed=True)\n",
    "plt.title('Distribution of the generated data')\n",
    "plt.show()"
   ]
  },
  {
   "cell_type": "code",
   "execution_count": 0,
   "metadata": {
    "colab": {
     "base_uri": "https://localhost:8080/",
     "height": 50,
     "referenced_widgets": [
      "b88be42d9eed4535be0fc6c6c5b94354",
      "78892877728c4e289f423ca7f45933cb",
      "4c71b87605654fd682057921fda157c9"
     ]
    },
    "colab_type": "code",
    "id": "7jY05aZ95w6V",
    "outputId": "1225dc3d-eec0-46f0-d139-0ded494c9e35"
   },
   "outputs": [
    {
     "data": {
      "application/vnd.jupyter.widget-view+json": {
       "model_id": "b88be42d9eed4535be0fc6c6c5b94354",
       "version_major": 2,
       "version_minor": 0
      },
      "text/plain": [
       "IntText(value=10000, description='Iterations:')"
      ]
     },
     "metadata": {
      "tags": []
     },
     "output_type": "display_data"
    }
   ],
   "source": [
    "#@title <font size='4'> Enter the number of iterations for vanilla MH:</font> {display-mode: \"form\"}\n",
    "n_iter = widgets.IntText(\n",
    "    value = 10000,\n",
    "    description = 'Iterations:',\n",
    "    disabled = False\n",
    ")\n",
    "n_iter"
   ]
  },
  {
   "cell_type": "code",
   "execution_count": 0,
   "metadata": {
    "colab": {
     "base_uri": "https://localhost:8080/",
     "height": 187
    },
    "colab_type": "code",
    "id": "_E4tU1MkDAZv",
    "outputId": "d47a7dc6-ae55-4bfd-9cc1-7b16b39795c5"
   },
   "outputs": [
    {
     "name": "stdout",
     "output_type": "stream",
     "text": [
      "Iteration 0 and  Acceptance percentage 0.00 \n",
      "Iteration 1000 and  Acceptance percentage 50.35 \n",
      "Iteration 2000 and  Acceptance percentage 50.72 \n",
      "Iteration 3000 and  Acceptance percentage 50.68 \n",
      "Iteration 4000 and  Acceptance percentage 50.79 \n",
      "Iteration 5000 and  Acceptance percentage 50.43 \n",
      "Iteration 6000 and  Acceptance percentage 50.47 \n",
      "Iteration 7000 and  Acceptance percentage 50.19 \n",
      "Iteration 8000 and  Acceptance percentage 50.18 \n",
      "Iteration 9000 and  Acceptance percentage 49.89 \n"
     ]
    }
   ],
   "source": [
    "#@title <font size='4'> Running vanilla MH algorithm</font> {display-mode: \"form\"}\n",
    "S = vanillaMH(n_iter.value)\n",
    "\n",
    "#plt.figure(figsize=(15,7))\n",
    "#plt.subplot(1,2,1)\n",
    "#plt.plot(S[:,0],label = r\"MH chain of: $\\mu$\")\n",
    "#plt.axhline(0, color='red', label = r\"$\\mu = 0 $\")\n",
    "#plt.ylim([-0.1, 0.1])\n",
    "#plt.xlabel('Iterations')\n",
    "#plt.legend()\n",
    "#plt.subplot(1,2,2)\n",
    "#plt.plot(np.exp(S[:,0]),label = r\"MH chain of: $\\sigma$\")\n",
    "#plt.axhline(1, color='red',label = r\"$\\sigma = 1 $\")\n",
    "#plt.xlabel('Iterations')\n",
    "#plt.legend()\n",
    "#plt.ylim([0.90, 1.1])\n",
    "#plt.show()\n",
    "\n"
   ]
  },
  {
   "cell_type": "code",
   "execution_count": 0,
   "metadata": {
    "colab": {},
    "colab_type": "code",
    "id": "9hcvn9-o5tOX"
   },
   "outputs": [],
   "source": [
    "#@title <font size='4'> Confidence Sampler implementation</font> {display-mode: \"form\"}\n",
    "\n",
    "## Concentration bounds\n",
    "def ctBernsteinSerfling(N,n,a,b,sigma,delta):\n",
    "    \"\"\"\n",
    "    Bernstein-type bound without replacement, from (Bardenet and Maillard, to appear in Bernoulli)\n",
    "    \"\"\"\n",
    "    l5 = np.log(5/delta)\n",
    "    kappa = 7.0/3+3/np.sqrt(2)\n",
    "    if n<=N/2:\n",
    "        rho = 1-1.0*(n-1)/N\n",
    "    else:\n",
    "        rho = (1-1.0*n/N)*(1+1.0/n)\n",
    "    return sigma*np.sqrt(2*rho*l5/n) + kappa*(b-a)*l5/n\n",
    "\n",
    "def ctHoeffdingSerfling(N,n,a,b,delta):\n",
    "    \"\"\"\n",
    "    Classical Hoeffding-type bound without replacement, from (Serfling, Annals of Stats 1974)\n",
    "    \"\"\"\n",
    "    l2 = np.log(2/delta)\n",
    "    if n<=N/2:\n",
    "        rho = 1-1.0*(n-1)/N\n",
    "    else:\n",
    "        rho = (1-1.0*n/N)*(1+1.0/n)\n",
    "    return (b-a)*np.sqrt(rho*l2/2/n)\n",
    "\n",
    "def ctBernstein(N,n,a,b,sigma,delta):\n",
    "    \"\"\"\n",
    "    Classical Bernstein bound, see e.g. the book by Boucheron, Lugosi, and Massart, 2014.\n",
    "    \"\"\"\n",
    "    l3 = np.log(3/delta)\n",
    "    return sigma*np.sqrt(2*l3/n) + 3*(b-a)*l3/n\n",
    "\n",
    "\n",
    "## Confidence MCMC (Bardenet, Doucet, and Holmes, ICML'14)\n",
    "def confidenceMCMC(T):\n",
    "    \n",
    "    # Initialize\n",
    "    theta = np.array([realMean,np.log(realStd)])\n",
    "    stepsize = .01 \n",
    "    S_B = np.zeros((T,2))\n",
    "    delta = .1\n",
    "    acceptance = 0.0\n",
    "    gamma = 1.5\n",
    "    ns_B = []\n",
    "    \n",
    "    bs = []\n",
    "    \n",
    "    for i in range(T):\n",
    "        \n",
    "        npr.shuffle(x)\n",
    "        accepted = 0\n",
    "        done = 0\n",
    "        thetaNew = theta\n",
    "        thetaP = theta + stepsize*npr.randn(2)\n",
    "        u = npr.rand()\n",
    "        n = N/10\n",
    "        cpt = 0\n",
    "        lhds = getLogLhd(x, thetaP[0], np.exp(thetaP[1])) - getLogLhd(x, theta[0], np.exp(theta[1]))\n",
    "        a = np.min(lhds)\n",
    "        b = np.max(lhds)\n",
    "            \n",
    "        while not done and n<N:\n",
    "        \n",
    "            n = min(N,np.floor(gamma*n))\n",
    "            cpt+=1\n",
    "            deltaP = delta/2/cpt**2\n",
    "            # The following step should be done differently to avoid recomputing previous likelihoods, but for the toy examples we keep it short\n",
    "            lhds = getLogLhd(x[:int(n)], thetaP[0], np.exp(thetaP[1])) - getLogLhd(x[:int(n)], theta[0], np.exp(theta[1])) \n",
    "            Lambda = np.mean(lhds)\n",
    "            sigma = np.std(lhds)\n",
    "            psi = np.log(u)/N\n",
    "            if np.abs(Lambda-psi) > ctBernstein(N,n,a,b,sigma,deltaP):\n",
    "                done = 1\n",
    "        bs.append(n)\n",
    "\n",
    "        if i>1 and ns_B[-1] == 2*N:\n",
    "            ns_B.append(n) # Half of the likelihoods were computed at the previous stage\n",
    "        else:\n",
    "            ns_B.append(2*n) # The algorithm required all likelihoods for theta and theta', next iteration we can reuse half of them\n",
    "        \n",
    "        if Lambda>psi:\n",
    "            # Accept\n",
    "            theta = thetaP\n",
    "            accepted = 1\n",
    "            S_B[i] = thetaP\n",
    "        else:\n",
    "            # Reject\n",
    "            S_B[i] = theta\n",
    "            \n",
    "        if i<T/10:\n",
    "            # Perform some adaptation of the stepsize in the early iterations\n",
    "            stepsize *= np.exp(1./(i+1)**0.6*(accepted-0.5))    \n",
    "            \n",
    "        acceptance*=i\n",
    "        acceptance+=accepted\n",
    "        acceptance/=(i+1)\n",
    "        if np.mod(i,T/10)==0:\n",
    "            # Monitor acceptance and average number of samples used\n",
    "            print(\"Iteration\", i, \"Acceptance\", acceptance, \"Avg. num evals\", np.mean(ns_B), \"sigma/sqrt(n)\", sigma/np.sqrt(n), \"R/n\", (b-a)/n)\n",
    "        \n",
    "    return S_B, ns_B, bs"
   ]
  },
  {
   "cell_type": "code",
   "execution_count": 0,
   "metadata": {
    "colab": {
     "base_uri": "https://localhost:8080/",
     "height": 50,
     "referenced_widgets": [
      "932cd58ef2f247ef88170ff6a2eb1536",
      "86405da2620a4e2a8173c81685690cd2",
      "693820394d2b424ab37933f0bea6ebf8"
     ]
    },
    "colab_type": "code",
    "id": "xdQ-Yday79DX",
    "outputId": "a18a83d3-558b-4e7a-e781-d0c62d88d63d"
   },
   "outputs": [
    {
     "data": {
      "application/vnd.jupyter.widget-view+json": {
       "model_id": "932cd58ef2f247ef88170ff6a2eb1536",
       "version_major": 2,
       "version_minor": 0
      },
      "text/plain": [
       "IntText(value=10000, description='Iterations:')"
      ]
     },
     "metadata": {
      "tags": []
     },
     "output_type": "display_data"
    }
   ],
   "source": [
    "#@title <font size='4'> Enter the number of iterations for Confidence Sampler:</font> {display-mode: \"form\"}\n",
    "n_iter_conf = widgets.IntText(\n",
    "    value = 10000,\n",
    "    description = 'Iterations:',\n",
    "    disabled = False\n",
    ")\n",
    "n_iter_conf"
   ]
  },
  {
   "cell_type": "code",
   "execution_count": 0,
   "metadata": {
    "colab": {
     "base_uri": "https://localhost:8080/",
     "height": 207
    },
    "colab_type": "code",
    "id": "vEc-W1LF59k8",
    "outputId": "15e8ccdc-d5e3-491d-d566-55424ace386d"
   },
   "outputs": [
    {
     "name": "stdout",
     "output_type": "stream",
     "text": [
      "Iteration 0 Acceptance 0.0 Avg. num evals 200000.0 sigma/sqrt(n) 4.395225050451293e-05 R/n 1.5390382929998826e-06\n",
      "Iteration 1000 Acceptance 0.4905094905094903 Avg. num evals 148947.92507492506 sigma/sqrt(n) 2.0524631030610058e-05 R/n 5.513361838972485e-07\n",
      "Iteration 2000 Acceptance 0.5237381309345327 Avg. num evals 148457.95452273864 sigma/sqrt(n) 1.221251411125473e-05 R/n 4.979166349999433e-07\n",
      "Iteration 3000 Acceptance 0.5334888370543155 Avg. num evals 148237.14561812728 sigma/sqrt(n) 1.827195489979916e-05 R/n 4.948659768960084e-07\n",
      "Iteration 4000 Acceptance 0.5446138465383661 Avg. num evals 148095.23619095227 sigma/sqrt(n) 3.526295495338081e-06 R/n 1.7891358035839234e-07\n",
      "Iteration 5000 Acceptance 0.5406918616276746 Avg. num evals 148087.6898620276 sigma/sqrt(n) 1.0740827112220162e-05 R/n 3.9614072911498265e-07\n",
      "Iteration 6000 Acceptance 0.5384102649558408 Avg. num evals 148121.50541576403 sigma/sqrt(n) 1.1200128300823346e-05 R/n 3.608274174049231e-07\n",
      "Iteration 7000 Acceptance 0.5380659905727752 Avg. num evals 148088.48178831596 sigma/sqrt(n) 5.56185432900585e-06 R/n 1.707119093347198e-07\n",
      "Iteration 8000 Acceptance 0.5396825396825402 Avg. num evals 147965.3655793026 sigma/sqrt(n) 7.503746148951691e-06 R/n 1.9528925988161916e-07\n",
      "Iteration 9000 Acceptance 0.5364959448950124 Avg. num evals 148026.46328185758 sigma/sqrt(n) 8.007518402064551e-06 R/n 5.138271740664444e-07\n"
     ]
    }
   ],
   "source": [
    "#@title <font size='4'> Running the Confidence Sampler</font> {display-mode: \"form\"}\n",
    "\n",
    "S_B, ns_B, bs = confidenceMCMC(n_iter_conf.value)"
   ]
  },
  {
   "cell_type": "code",
   "execution_count": 0,
   "metadata": {
    "colab": {
     "base_uri": "https://localhost:8080/",
     "height": 361
    },
    "colab_type": "code",
    "id": "X9KlUNdX6LGO",
    "outputId": "4cd7a284-a04f-45b3-92f1-139ae7f0b6ca"
   },
   "outputs": [
    {
     "data": {
      "image/png": "[encoded data removed]",
      "text/plain": [
       "<Figure size 576x396 with 1 Axes>"
      ]
     },
     "metadata": {
      "tags": []
     },
     "output_type": "display_data"
    }
   ],
   "source": [
    "#@title <font size='4'> Histogram of the number of likelihood evaluations:</font> {display-mode: \"form\"}\n",
    "plt.hist(bs)\n",
    "\n",
    "labStr = \"mean=\"+str(np.around(1.0*np.mean(bs)/N*100,1))+\"%\"\n",
    "plt.axvline(np.mean(bs), linewidth = 4, color=\"blue\", label=labStr)\n",
    "plt.axvline(N, linewidth = 4, color=\"k\", label=\"n\") \n",
    "labStr = \"median=\"+str(np.around(1.0*np.median(bs)/N*100,1))+\"%\"\n",
    "plt.axvline(np.median(bs), linewidth = 4, color=\"blue\",linestyle='--', label=labStr)\n",
    "plt.legend()\n",
    "plt.xlabel(\"Batchsize\")\n",
    "plt.ylabel(\"Number of iterations\")\n",
    "plt.show()"
   ]
  },
  {
   "cell_type": "code",
   "execution_count": 0,
   "metadata": {
    "colab": {},
    "colab_type": "code",
    "id": "lzQsAmxF7hCl"
   },
   "outputs": [],
   "source": [
    "#@title <font size='4'> Implementation of the Improved Confidence Sampler with Taylor expansions </font> {display-mode: \"form\"}\n",
    "\n",
    "def combineMeansAndSSQs(N1, mu1, ssq1, N2, mu2, ssq2):\n",
    "    \"\"\"\n",
    "    combine means and sum of squares of two sets\n",
    "    \"\"\"\n",
    "    dd = mu2 - mu1\n",
    "    mu = mu1\n",
    "    ssq = ssq1\n",
    "    N = N1+N2\n",
    "    mu += dd*N2/N\n",
    "    ssq += ssq2\n",
    "    ssq += (dd**2) * N1 * N2 / N\n",
    "    return N, mu, ssq\n",
    "    \n",
    "### Differential functions for proxies, \n",
    "\n",
    "### Define vectorized evaluation of gradient and Hessian\n",
    "myGradientVect = lambda x_float, mu_float, sigma_float:np.array([-(2*mu_float - 2*x_float)/(2*sigma_float**2), -1/sigma_float + (-mu_float + x_float)**2/sigma_float**3]).T\n",
    "myHessianVect = lambda x_float, mu_float, sigma_float:[[-1/sigma_float**2*np.ones(x_float.shape), 2*(mu_float - x_float)/sigma_float**3], [2*(mu_float - x_float)/sigma_float**3, (1 - 3*(mu_float - x_float)**2/sigma_float**2)/sigma_float**2]]\n",
    "\n",
    "# Compute third order derivatives to bound the Taylor remainder. Symbolic differentiation is not really necessary in this simple case, but\n",
    "# it may be useful in later applications\n",
    "def thirdDerivatives():\n",
    "    x, mu, sigma = sym.symbols('x, mu, sigma')\n",
    "    L = []\n",
    "    for i in range(4):\n",
    "        for j in range(4):\n",
    "            if i+j == 3:\n",
    "                args = tuple([-(x-mu)**2/(2*sigma**2) -sym.log(sigma)] + [mu for cpt in range(i)] + [sigma for cpt in range(j)])                \n",
    "                L.append( sym.diff(*args) )\n",
    "    return L\n",
    "    \n",
    "def evalThirdDerivatives(x_float, mu_float, logSigma_float): \n",
    "    tt = thirdDerivatives()\n",
    "    return [tt[i].subs('x',x_float).subs('mu',mu_float).subs('sigma',np.exp(logSigma_float)).evalf() for i in range(4)]\n",
    "\n",
    "# Find the MAP (not really necessary here since the MAP are the mean and std deviation of the data)\n",
    "f = lambda theta: -np.mean(getLogLhd(x, theta[0], np.exp(theta[1])))\n",
    "thetaMAP = spo.minimize(f, np.array([realMean, np.log(realStd)])).x\n",
    "\n",
    "### Confidence MCMC with proxy (Bardenet, Doucet, and Holmes, this submission)\n",
    "def confidenceMCMCWithProxy(T):\n",
    "    \n",
    "    npr.seed(1)\n",
    "    # Initialize\n",
    "    theta = np.array([realMean,np.log(realStd)])\n",
    "    stepsize = .01 \n",
    "    S_B = np.zeros((T,2))\n",
    "    delta = .1\n",
    "    acceptance = 0.0\n",
    "    gamma = 2.\n",
    "    ns_B = []\n",
    "    \n",
    "    # Compute some statistics of the data that will be useful for bounding the error and averaging the proxies    \n",
    "    minx = np.min(x)\n",
    "    maxx = np.max(x)\n",
    "    meanx = np.mean(x)\n",
    "    meanxSquared = np.mean(x**2)\n",
    "    \n",
    "    # Prepare total sum of Taylor proxys\n",
    "    muMAP = thetaMAP[0]\n",
    "    sigmaMAP = np.exp(thetaMAP[1])\n",
    "    meanGradMAP = np.array( [(meanx - muMAP)/sigmaMAP**2, (meanxSquared-2*muMAP*meanx+muMAP**2)/sigmaMAP**3 - 1./sigmaMAP] )\n",
    "    meanHessMAP = np.array( [[-1./sigmaMAP**2, -2*(meanx-muMAP)/sigmaMAP**3], [-2*(meanx-muMAP)/sigmaMAP**3, -3*(meanxSquared-2*muMAP*meanx+muMAP**2)/sigmaMAP**4 + 1/sigmaMAP**2]] )    \n",
    "    \n",
    "    bs = []\n",
    "    \n",
    "    for i in range(T):\n",
    "        \n",
    "        npr.shuffle(x)\n",
    "        accepted = 0\n",
    "        done = 0\n",
    "        thetaNew = theta\n",
    "        thetaP = theta + stepsize*npr.randn(2)\n",
    "        u = npr.rand()\n",
    "        n = 2\n",
    "        t0 = 0\n",
    "        cpt = 0\n",
    "        Lambda = 0\n",
    "        ssq = 0 # Sum of squares\n",
    "        \n",
    "        # Prepare Taylor bounds\n",
    "        xMinusMuMax = np.max(np.abs([1, minx-theta[0], maxx-theta[0], minx-thetaMAP[0], maxx-thetaMAP[0], minx-thetaP[0], maxx-thetaP[0]]))\n",
    "        sigmaMin = np.min(np.exp([theta[1], thetaMAP[1], thetaP[1]]))\n",
    "        R = float(np.max(np.abs(evalThirdDerivatives(xMinusMuMax, 0, np.log(sigmaMin)))))\n",
    "        h = np.array([theta[0]-thetaMAP[0], np.exp(theta[1])-np.exp(thetaMAP[1])])\n",
    "        hP = np.array([thetaP[0]-thetaMAP[0], np.exp(thetaP[1])-np.exp(thetaMAP[1])])\n",
    "        R *= 2*1./6 * max(np.sum(np.abs(h)), np.sum(np.abs(hP)))**3\n",
    "        a = -R\n",
    "        b = R\n",
    "        \n",
    "        # We can already compute the average proxy log likelihood ratio\n",
    "        avgTotalProxy = np.dot(meanGradMAP, hP-h) + .5*np.dot( hP-h, np.dot(meanHessMAP, h+hP) ) \n",
    "        \n",
    "        while not done and n<N:\n",
    "        \n",
    "            n = min(N,np.floor(gamma*n))\n",
    "            cpt+=1\n",
    "            deltaP = delta/2/cpt**2\n",
    "            batch = x[int(t0):int(n)]\n",
    "            lhds = getLogLhd(batch, thetaP[0], np.exp(thetaP[1])) - getLogLhd(batch, theta[0], np.exp(theta[1]))\n",
    "            proxys = np.dot(myGradientVect(batch, muMAP, sigmaMAP), hP-h) + 0.5*np.dot(np.dot(hP-h, myHessianVect(batch,muMAP,sigmaMAP)).T, h+hP)\n",
    "            if np.any(np.abs(lhds-proxys)>R):\n",
    "                # Just a check that our error is correctly bounded\n",
    "                print(\"Taylor remainder is underestimated\")\n",
    "            tmp, Lambda, ssq = combineMeansAndSSQs(t0, Lambda, ssq, n-t0, np.mean(lhds-proxys), (n-t0)*np.var(lhds-proxys))\n",
    "            sigma = np.sqrt(1./n*ssq)\n",
    "            psi = np.log(u)/N\n",
    "            t0 = n\n",
    "            if np.abs(Lambda-psi + avgTotalProxy) > ctBernstein(N,n,a,b,sigma,deltaP):\n",
    "                done = 1\n",
    "        bs.append(n)\n",
    "        \n",
    "        if i>1 and ns_B[-1] == 2*N:\n",
    "            ns_B.append(n) # Half of the likelihoods were computed at the previous stage\n",
    "        else:\n",
    "            ns_B.append(2*n)\n",
    "            \n",
    "        if Lambda+avgTotalProxy>psi:\n",
    "            # Accept\n",
    "            theta = thetaP\n",
    "            accepted = 1\n",
    "            S_B[i] = thetaP\n",
    "        else:\n",
    "            # Reject\n",
    "            S_B[i] = theta\n",
    "            \n",
    "        if i<T/10:\n",
    "            # Perform some adaptation of the stepsize in the early iterations\n",
    "            stepsize *= np.exp(1./(i+1)**0.6*(accepted-0.5))    \n",
    "        \n",
    "        acceptance*=i\n",
    "        acceptance+=accepted\n",
    "        acceptance/=(i+1)\n",
    "        if np.mod(i,T/10)==0:\n",
    "            # Monitor acceptance and average number of samples used\n",
    "            print(\"Iteration\", i, \"Acceptance\", acceptance, \"Avg. num samples\", np.mean(ns_B), \"Dist. to MAP\", np.sum( np.abs(theta-thetaMAP) ), \"sigma/sqrt(n)\", sigma/np.sqrt(n), \"R/n\", R/n)\n",
    "        \n",
    "    return S_B, ns_B, bs"
   ]
  },
  {
   "cell_type": "code",
   "execution_count": 0,
   "metadata": {
    "colab": {
     "base_uri": "https://localhost:8080/",
     "height": 207
    },
    "colab_type": "code",
    "id": "nf9x2-Ri77TE",
    "outputId": "9a385f16-da09-4464-966c-fb143cf41178"
   },
   "outputs": [
    {
     "name": "stdout",
     "output_type": "stream",
     "text": [
      "Iteration 0 Acceptance 0.0 Avg. num samples 1024.0 Dist. to MAP 0.0 sigma/sqrt(n) 3.1026756854543736e-09 R/n 6.472474098772885e-08\n",
      "Iteration 1000 Acceptance 0.49850149850149844 Avg. num samples 859.7082917082917 Dist. to MAP 0.0002493180558642231 sigma/sqrt(n) 4.594563220871523e-11 R/n 5.055738236017883e-08\n",
      "Iteration 2000 Acceptance 0.5072463768115952 Avg. num samples 954.5347326336831 Dist. to MAP 0.0061598892790331004 sigma/sqrt(n) 5.239127046418569e-09 R/n 3.4652091675663985e-08\n",
      "Iteration 3000 Acceptance 0.501166277907365 Avg. num samples 941.1449516827724 Dist. to MAP 0.010949986805270207 sigma/sqrt(n) 4.188643171210579e-08 R/n 1.8371592178874226e-07\n",
      "Iteration 4000 Acceptance 0.49337665583604184 Avg. num samples 960.5618595351162 Dist. to MAP 0.0029151686946896163 sigma/sqrt(n) 2.1925098484149743e-08 R/n 1.9431378819589596e-07\n",
      "Iteration 5000 Acceptance 0.49610077984403195 Avg. num samples 1092.4599080183964 Dist. to MAP 0.0010866662283205996 sigma/sqrt(n) 2.6516201557106773e-08 R/n 2.1103632341548628e-07\n",
      "Iteration 6000 Acceptance 0.4955840693217803 Avg. num samples 1144.0079986668889 Dist. to MAP 0.005822140513723733 sigma/sqrt(n) 5.408024042710274e-08 R/n 5.367141233132221e-07\n",
      "Iteration 7000 Acceptance 0.495072132552493 Avg. num samples 1145.1209827167547 Dist. to MAP 0.005379563166217382 sigma/sqrt(n) 4.9496544063918823e-11 R/n 1.827944262401288e-07\n",
      "Iteration 8000 Acceptance 0.4953130858642674 Avg. num samples 1119.8710161229847 Dist. to MAP 0.0037834568928888806 sigma/sqrt(n) 9.3969092335661e-09 R/n 1.357455396500425e-07\n",
      "Iteration 9000 Acceptance 0.49616709254527314 Avg. num samples 1138.8396844795022 Dist. to MAP 0.004839996649832641 sigma/sqrt(n) 1.2120683716210768e-09 R/n 7.038167027504496e-08\n"
     ]
    }
   ],
   "source": [
    "#@title <font size='4'> Running the Improved Confidence Sampler</font> {display-mode: \"form\"}\n",
    "\n",
    "S_BP, ns_BP, bs2 = confidenceMCMCWithProxy(10000)"
   ]
  },
  {
   "cell_type": "code",
   "execution_count": 0,
   "metadata": {
    "colab": {
     "base_uri": "https://localhost:8080/",
     "height": 361
    },
    "colab_type": "code",
    "id": "EUqcELVO8OY9",
    "outputId": "601d05cd-03b9-4840-a00e-d25aa7b1ba8b"
   },
   "outputs": [
    {
     "data": {
      "image/png": "[encoded data removed]",
      "text/plain": [
       "<Figure size 576x396 with 1 Axes>"
      ]
     },
     "metadata": {
      "tags": []
     },
     "output_type": "display_data"
    }
   ],
   "source": [
    "#@title <font size='4'> Histogram of the number of likelihood evaluations:</font> {display-mode: \"form\"}\n",
    "plt.hist(bs2)\n",
    "\n",
    "labStr = \"mean=\"+str(np.around(1.0*np.mean(bs2)/N*100,1))+\"%\"\n",
    "plt.axvline(np.mean(bs2), linewidth = 4, color=\"blue\", label=labStr)\n",
    "plt.axvline(N, linewidth = 4, color=\"k\", label=\"n\") \n",
    "labStr = \"median=\"+str(np.around(1.0*np.median(bs2)/N*100,1))+\"%\"\n",
    "plt.axvline(np.median(bs2), linewidth = 4, color=\"blue\",linestyle='--', label=labStr)\n",
    "plt.legend()\n",
    "plt.xlabel(\"Batchsize\")\n",
    "plt.ylabel(\"Number of iterations\")\n",
    "plt.show()"
   ]
  },
  {
   "cell_type": "code",
   "execution_count": 0,
   "metadata": {
    "colab": {},
    "colab_type": "code",
    "id": "2yPI-R7GDSuz"
   },
   "outputs": [],
   "source": []
  }
 ],
 "metadata": {
  "celltoolbar": "Slideshow",
  "colab": {
   "collapsed_sections": [],
   "name": "Projet_Bayesian.ipynb",
   "provenance": []
  },
  "kernelspec": {
   "display_name": "Python 3",
   "language": "python",
   "name": "python3"
  },
  "language_info": {
   "codemirror_mode": {
    "name": "ipython",
    "version": 3
   },
   "file_extension": ".py",
   "mimetype": "text/x-python",
   "name": "python",
   "nbconvert_exporter": "python",
   "pygments_lexer": "ipython3",
   "version": "3.7.4"
  },
  "widgets": {
   "application/vnd.jupyter.widget-state+json": {
    "07e425b5f36b4f36b2fdc8895c3c17c8": {
     "model_module": "@jupyter-widgets/base",
     "model_name": "LayoutModel",
     "state": {
      "_model_module": "@jupyter-widgets/base",
      "_model_module_version": "1.2.0",
      "_model_name": "LayoutModel",
      "_view_count": null,
      "_view_module": "@jupyter-widgets/base",
      "_view_module_version": "1.2.0",
      "_view_name": "LayoutView",
      "align_content": null,
      "align_items": null,
      "align_self": null,
      "border": null,
      "bottom": null,
      "display": null,
      "flex": null,
      "flex_flow": null,
      "grid_area": null,
      "grid_auto_columns": null,
      "grid_auto_flow": null,
      "grid_auto_rows": null,
      "grid_column": null,
      "grid_gap": null,
      "grid_row": null,
      "grid_template_areas": null,
      "grid_template_columns": null,
      "grid_template_rows": null,
      "height": null,
      "justify_content": null,
      "justify_items": null,
      "left": null,
      "margin": null,
      "max_height": null,
      "max_width": null,
      "min_height": null,
      "min_width": null,
      "object_fit": null,
      "object_position": null,
      "order": null,
      "overflow": null,
      "overflow_x": null,
      "overflow_y": null,
      "padding": null,
      "right": null,
      "top": null,
      "visibility": null,
      "width": null
     }
    },
    "0e822e1ddf1548a5b8917b5052d2804a": {
     "model_module": "@jupyter-widgets/controls",
     "model_name": "ToggleButtonsStyleModel",
     "state": {
      "_model_module": "@jupyter-widgets/controls",
      "_model_module_version": "1.5.0",
      "_model_name": "ToggleButtonsStyleModel",
      "_view_count": null,
      "_view_module": "@jupyter-widgets/base",
      "_view_module_version": "1.2.0",
      "_view_name": "StyleView",
      "button_width": "",
      "description_width": "",
      "font_weight": ""
     }
    },
    "2ebc8243421d4b8b88724542465eb57e": {
     "model_module": "@jupyter-widgets/controls",
     "model_name": "VBoxModel",
     "state": {
      "_dom_classes": [],
      "_model_module": "@jupyter-widgets/controls",
      "_model_module_version": "1.5.0",
      "_model_name": "VBoxModel",
      "_view_count": null,
      "_view_module": "@jupyter-widgets/controls",
      "_view_module_version": "1.5.0",
      "_view_name": "VBoxView",
      "box_style": "",
      "children": [
       "IPY_MODEL_528c884ac8d243b2a7b451dc61b4bfc9"
      ],
      "layout": "IPY_MODEL_f88fd9993f0e4826b453bc8d724b416a"
     }
    },
    "4c71b87605654fd682057921fda157c9": {
     "model_module": "@jupyter-widgets/base",
     "model_name": "LayoutModel",
     "state": {
      "_model_module": "@jupyter-widgets/base",
      "_model_module_version": "1.2.0",
      "_model_name": "LayoutModel",
      "_view_count": null,
      "_view_module": "@jupyter-widgets/base",
      "_view_module_version": "1.2.0",
      "_view_name": "LayoutView",
      "align_content": null,
      "align_items": null,
      "align_self": null,
      "border": null,
      "bottom": null,
      "display": null,
      "flex": null,
      "flex_flow": null,
      "grid_area": null,
      "grid_auto_columns": null,
      "grid_auto_flow": null,
      "grid_auto_rows": null,
      "grid_column": null,
      "grid_gap": null,
      "grid_row": null,
      "grid_template_areas": null,
      "grid_template_columns": null,
      "grid_template_rows": null,
      "height": null,
      "justify_content": null,
      "justify_items": null,
      "left": null,
      "margin": null,
      "max_height": null,
      "max_width": null,
      "min_height": null,
      "min_width": null,
      "object_fit": null,
      "object_position": null,
      "order": null,
      "overflow": null,
      "overflow_x": null,
      "overflow_y": null,
      "padding": null,
      "right": null,
      "top": null,
      "visibility": null,
      "width": null
     }
    },
    "4e92041aea2b488dad1eb8871031daba": {
     "model_module": "@jupyter-widgets/base",
     "model_name": "LayoutModel",
     "state": {
      "_model_module": "@jupyter-widgets/base",
      "_model_module_version": "1.2.0",
      "_model_name": "LayoutModel",
      "_view_count": null,
      "_view_module": "@jupyter-widgets/base",
      "_view_module_version": "1.2.0",
      "_view_name": "LayoutView",
      "align_content": null,
      "align_items": null,
      "align_self": null,
      "border": null,
      "bottom": null,
      "display": null,
      "flex": null,
      "flex_flow": null,
      "grid_area": null,
      "grid_auto_columns": null,
      "grid_auto_flow": null,
      "grid_auto_rows": null,
      "grid_column": null,
      "grid_gap": null,
      "grid_row": null,
      "grid_template_areas": null,
      "grid_template_columns": null,
      "grid_template_rows": null,
      "height": null,
      "justify_content": null,
      "justify_items": null,
      "left": null,
      "margin": null,
      "max_height": null,
      "max_width": null,
      "min_height": null,
      "min_width": null,
      "object_fit": null,
      "object_position": null,
      "order": null,
      "overflow": null,
      "overflow_x": null,
      "overflow_y": null,
      "padding": null,
      "right": null,
      "top": null,
      "visibility": null,
      "width": null
     }
    },
    "528c884ac8d243b2a7b451dc61b4bfc9": {
     "model_module": "@jupyter-widgets/controls",
     "model_name": "TabModel",
     "state": {
      "_dom_classes": [],
      "_model_module": "@jupyter-widgets/controls",
      "_model_module_version": "1.5.0",
      "_model_name": "TabModel",
      "_titles": {
       "0": "Generation of the data"
      },
      "_view_count": null,
      "_view_module": "@jupyter-widgets/controls",
      "_view_module_version": "1.5.0",
      "_view_name": "TabView",
      "box_style": "",
      "children": [
       "IPY_MODEL_96ff89c474fe4f98b2bdf952b6967607"
      ],
      "layout": "IPY_MODEL_d926c4b5c0a548459dce91b89574381a",
      "selected_index": 0
     }
    },
    "5956d5faff0d4950b3c1dbe3a68105ce": {
     "model_module": "@jupyter-widgets/base",
     "model_name": "LayoutModel",
     "state": {
      "_model_module": "@jupyter-widgets/base",
      "_model_module_version": "1.2.0",
      "_model_name": "LayoutModel",
      "_view_count": null,
      "_view_module": "@jupyter-widgets/base",
      "_view_module_version": "1.2.0",
      "_view_name": "LayoutView",
      "align_content": null,
      "align_items": null,
      "align_self": null,
      "border": null,
      "bottom": null,
      "display": null,
      "flex": null,
      "flex_flow": null,
      "grid_area": null,
      "grid_auto_columns": null,
      "grid_auto_flow": null,
      "grid_auto_rows": null,
      "grid_column": null,
      "grid_gap": null,
      "grid_row": null,
      "grid_template_areas": null,
      "grid_template_columns": null,
      "grid_template_rows": null,
      "height": null,
      "justify_content": null,
      "justify_items": null,
      "left": null,
      "margin": null,
      "max_height": null,
      "max_width": null,
      "min_height": null,
      "min_width": null,
      "object_fit": null,
      "object_position": null,
      "order": null,
      "overflow": null,
      "overflow_x": null,
      "overflow_y": null,
      "padding": null,
      "right": null,
      "top": null,
      "visibility": null,
      "width": null
     }
    },
    "693820394d2b424ab37933f0bea6ebf8": {
     "model_module": "@jupyter-widgets/base",
     "model_name": "LayoutModel",
     "state": {
      "_model_module": "@jupyter-widgets/base",
      "_model_module_version": "1.2.0",
      "_model_name": "LayoutModel",
      "_view_count": null,
      "_view_module": "@jupyter-widgets/base",
      "_view_module_version": "1.2.0",
      "_view_name": "LayoutView",
      "align_content": null,
      "align_items": null,
      "align_self": null,
      "border": null,
      "bottom": null,
      "display": null,
      "flex": null,
      "flex_flow": null,
      "grid_area": null,
      "grid_auto_columns": null,
      "grid_auto_flow": null,
      "grid_auto_rows": null,
      "grid_column": null,
      "grid_gap": null,
      "grid_row": null,
      "grid_template_areas": null,
      "grid_template_columns": null,
      "grid_template_rows": null,
      "height": null,
      "justify_content": null,
      "justify_items": null,
      "left": null,
      "margin": null,
      "max_height": null,
      "max_width": null,
      "min_height": null,
      "min_width": null,
      "object_fit": null,
      "object_position": null,
      "order": null,
      "overflow": null,
      "overflow_x": null,
      "overflow_y": null,
      "padding": null,
      "right": null,
      "top": null,
      "visibility": null,
      "width": null
     }
    },
    "78892877728c4e289f423ca7f45933cb": {
     "model_module": "@jupyter-widgets/controls",
     "model_name": "DescriptionStyleModel",
     "state": {
      "_model_module": "@jupyter-widgets/controls",
      "_model_module_version": "1.5.0",
      "_model_name": "DescriptionStyleModel",
      "_view_count": null,
      "_view_module": "@jupyter-widgets/base",
      "_view_module_version": "1.2.0",
      "_view_name": "StyleView",
      "description_width": ""
     }
    },
    "86405da2620a4e2a8173c81685690cd2": {
     "model_module": "@jupyter-widgets/controls",
     "model_name": "DescriptionStyleModel",
     "state": {
      "_model_module": "@jupyter-widgets/controls",
      "_model_module_version": "1.5.0",
      "_model_name": "DescriptionStyleModel",
      "_view_count": null,
      "_view_module": "@jupyter-widgets/base",
      "_view_module_version": "1.2.0",
      "_view_name": "StyleView",
      "description_width": ""
     }
    },
    "932cd58ef2f247ef88170ff6a2eb1536": {
     "model_module": "@jupyter-widgets/controls",
     "model_name": "IntTextModel",
     "state": {
      "_dom_classes": [],
      "_model_module": "@jupyter-widgets/controls",
      "_model_module_version": "1.5.0",
      "_model_name": "IntTextModel",
      "_view_count": null,
      "_view_module": "@jupyter-widgets/controls",
      "_view_module_version": "1.5.0",
      "_view_name": "IntTextView",
      "continuous_update": false,
      "description": "Iterations:",
      "description_tooltip": null,
      "disabled": false,
      "layout": "IPY_MODEL_693820394d2b424ab37933f0bea6ebf8",
      "step": 1,
      "style": "IPY_MODEL_86405da2620a4e2a8173c81685690cd2",
      "value": 10000
     }
    },
    "96ff89c474fe4f98b2bdf952b6967607": {
     "model_module": "@jupyter-widgets/controls",
     "model_name": "VBoxModel",
     "state": {
      "_dom_classes": [],
      "_model_module": "@jupyter-widgets/controls",
      "_model_module_version": "1.5.0",
      "_model_name": "VBoxModel",
      "_view_count": null,
      "_view_module": "@jupyter-widgets/controls",
      "_view_module_version": "1.5.0",
      "_view_name": "VBoxView",
      "box_style": "",
      "children": [
       "IPY_MODEL_e0ed800defb9414e9221e7aca690843b",
       "IPY_MODEL_c7ece73ba61649babac47cc0491f0edc"
      ],
      "layout": "IPY_MODEL_07e425b5f36b4f36b2fdc8895c3c17c8"
     }
    },
    "b88be42d9eed4535be0fc6c6c5b94354": {
     "model_module": "@jupyter-widgets/controls",
     "model_name": "IntTextModel",
     "state": {
      "_dom_classes": [],
      "_model_module": "@jupyter-widgets/controls",
      "_model_module_version": "1.5.0",
      "_model_name": "IntTextModel",
      "_view_count": null,
      "_view_module": "@jupyter-widgets/controls",
      "_view_module_version": "1.5.0",
      "_view_name": "IntTextView",
      "continuous_update": false,
      "description": "Iterations:",
      "description_tooltip": null,
      "disabled": false,
      "layout": "IPY_MODEL_4c71b87605654fd682057921fda157c9",
      "step": 1,
      "style": "IPY_MODEL_78892877728c4e289f423ca7f45933cb",
      "value": 10000
     }
    },
    "ba1897bb6e2b45819d196f638cb2b365": {
     "model_module": "@jupyter-widgets/controls",
     "model_name": "DescriptionStyleModel",
     "state": {
      "_model_module": "@jupyter-widgets/controls",
      "_model_module_version": "1.5.0",
      "_model_name": "DescriptionStyleModel",
      "_view_count": null,
      "_view_module": "@jupyter-widgets/base",
      "_view_module_version": "1.2.0",
      "_view_name": "StyleView",
      "description_width": ""
     }
    },
    "c7ece73ba61649babac47cc0491f0edc": {
     "model_module": "@jupyter-widgets/controls",
     "model_name": "IntTextModel",
     "state": {
      "_dom_classes": [],
      "_model_module": "@jupyter-widgets/controls",
      "_model_module_version": "1.5.0",
      "_model_name": "IntTextModel",
      "_view_count": null,
      "_view_module": "@jupyter-widgets/controls",
      "_view_module_version": "1.5.0",
      "_view_name": "IntTextView",
      "continuous_update": false,
      "description": "n:",
      "description_tooltip": null,
      "disabled": false,
      "layout": "IPY_MODEL_4e92041aea2b488dad1eb8871031daba",
      "step": 1,
      "style": "IPY_MODEL_ba1897bb6e2b45819d196f638cb2b365",
      "value": 100000
     }
    },
    "d926c4b5c0a548459dce91b89574381a": {
     "model_module": "@jupyter-widgets/base",
     "model_name": "LayoutModel",
     "state": {
      "_model_module": "@jupyter-widgets/base",
      "_model_module_version": "1.2.0",
      "_model_name": "LayoutModel",
      "_view_count": null,
      "_view_module": "@jupyter-widgets/base",
      "_view_module_version": "1.2.0",
      "_view_name": "LayoutView",
      "align_content": null,
      "align_items": null,
      "align_self": null,
      "border": null,
      "bottom": null,
      "display": null,
      "flex": null,
      "flex_flow": null,
      "grid_area": null,
      "grid_auto_columns": null,
      "grid_auto_flow": null,
      "grid_auto_rows": null,
      "grid_column": null,
      "grid_gap": null,
      "grid_row": null,
      "grid_template_areas": null,
      "grid_template_columns": null,
      "grid_template_rows": null,
      "height": null,
      "justify_content": null,
      "justify_items": null,
      "left": null,
      "margin": null,
      "max_height": null,
      "max_width": null,
      "min_height": null,
      "min_width": null,
      "object_fit": null,
      "object_position": null,
      "order": null,
      "overflow": null,
      "overflow_x": null,
      "overflow_y": null,
      "padding": null,
      "right": null,
      "top": null,
      "visibility": null,
      "width": null
     }
    },
    "e0ed800defb9414e9221e7aca690843b": {
     "model_module": "@jupyter-widgets/controls",
     "model_name": "ToggleButtonsModel",
     "state": {
      "_dom_classes": [],
      "_model_module": "@jupyter-widgets/controls",
      "_model_module_version": "1.5.0",
      "_model_name": "ToggleButtonsModel",
      "_options_labels": [
       "Normal",
       "Log-normal"
      ],
      "_view_count": null,
      "_view_module": "@jupyter-widgets/controls",
      "_view_module_version": "1.5.0",
      "_view_name": "ToggleButtonsView",
      "button_style": "",
      "description": "Distribution:",
      "description_tooltip": null,
      "disabled": false,
      "icons": [],
      "index": 0,
      "layout": "IPY_MODEL_5956d5faff0d4950b3c1dbe3a68105ce",
      "style": "IPY_MODEL_0e822e1ddf1548a5b8917b5052d2804a",
      "tooltips": []
     }
    },
    "f88fd9993f0e4826b453bc8d724b416a": {
     "model_module": "@jupyter-widgets/base",
     "model_name": "LayoutModel",
     "state": {
      "_model_module": "@jupyter-widgets/base",
      "_model_module_version": "1.2.0",
      "_model_name": "LayoutModel",
      "_view_count": null,
      "_view_module": "@jupyter-widgets/base",
      "_view_module_version": "1.2.0",
      "_view_name": "LayoutView",
      "align_content": null,
      "align_items": null,
      "align_self": null,
      "border": null,
      "bottom": null,
      "display": null,
      "flex": null,
      "flex_flow": null,
      "grid_area": null,
      "grid_auto_columns": null,
      "grid_auto_flow": null,
      "grid_auto_rows": null,
      "grid_column": null,
      "grid_gap": null,
      "grid_row": null,
      "grid_template_areas": null,
      "grid_template_columns": null,
      "grid_template_rows": null,
      "height": null,
      "justify_content": null,
      "justify_items": null,
      "left": null,
      "margin": null,
      "max_height": null,
      "max_width": null,
      "min_height": null,
      "min_width": null,
      "object_fit": null,
      "object_position": null,
      "order": null,
      "overflow": null,
      "overflow_x": null,
      "overflow_y": null,
      "padding": null,
      "right": null,
      "top": null,
      "visibility": null,
      "width": null
     }
    }
   }
  }
 },
 "nbformat": 4,
 "nbformat_minor": 1
}
